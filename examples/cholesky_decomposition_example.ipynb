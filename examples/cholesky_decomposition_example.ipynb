{
 "cells": [
  {
   "cell_type": "markdown",
   "metadata": {},
   "source": [
    "# Cholesky selected decomposition examples"
   ]
  },
  {
   "cell_type": "code",
   "execution_count": null,
   "metadata": {},
   "outputs": [],
   "source": [
    "import numpy as np\n",
    "import scipy.linalg as la\n",
    "import matplotlib.pyplot as plt\n",
    "\n",
    "from sdr.utils import matrix_generation"
   ]
  },
  {
   "cell_type": "markdown",
   "metadata": {},
   "source": [
    "## 1. Block tridiagonal matrix"
   ]
  },
  {
   "cell_type": "code",
   "execution_count": null,
   "metadata": {},
   "outputs": [],
   "source": [
    "%matplotlib widget\n",
    "\n",
    "from sdr.cholesky.cholesky_decompose import chol_dcmp_tridiag\n",
    "\n",
    "nblocks = 5\n",
    "blocksize = 2\n",
    "symmetric = True\n",
    "diagonal_dominant = True\n",
    "seed = 63\n",
    "\n",
    "A = matrix_generation.generate_blocktridiag(\n",
    "    nblocks, blocksize, symmetric, diagonal_dominant, seed\n",
    ")\n",
    "\n",
    "plt.matshow(A)\n",
    "plt.title(\"A: Block tridiagonal matrix\")\n",
    "\n",
    "# --- Decomposition ---\n",
    "\n",
    "fig, ax = plt.subplots(1, 3)\n",
    "fig.suptitle(\"Cholesky decomposition of block tridiagonal matrix\")\n",
    "L_ref = la.cholesky(A, lower=True)\n",
    "ax[0].set_title(\"L_ref: Scipy cholesky decomposition\")\n",
    "ax[0].matshow(L_ref)\n",
    "\n",
    "L_sdr = chol_dcmp_tridiag(A, blocksize)\n",
    "ax[1].set_title(\"L_sdr: Selected cholesky decomposition\")\n",
    "ax[1].matshow(L_sdr)\n",
    "\n",
    "L_diff = L_ref - L_sdr\n",
    "ax[2].set_title(\"L_diff: Difference between ref_chol and sel_chol\")\n",
    "ax[2].matshow(L_diff)\n",
    "fig.colorbar(ax[2].matshow(L_diff), ax=ax[2], label=\"Relative error\", shrink=0.4)"
   ]
  },
  {
   "cell_type": "markdown",
   "metadata": {},
   "source": [
    "## 2. Block tridiagonal arrowhead matrix"
   ]
  },
  {
   "cell_type": "code",
   "execution_count": null,
   "metadata": {},
   "outputs": [],
   "source": [
    "%matplotlib widget\n",
    "\n",
    "from sdr.cholesky.cholesky_decompose import chol_dcmp_tridiag_arrowhead\n",
    "\n",
    "nblocks = 5\n",
    "diag_blocksize = 3\n",
    "arrow_blocksize = 2\n",
    "symmetric = True\n",
    "diagonal_dominant = True\n",
    "seed = 63\n",
    "\n",
    "A = matrix_generation.generate_blocktridiag_arrowhead(\n",
    "    nblocks, diag_blocksize, arrow_blocksize, symmetric, diagonal_dominant, \n",
    "    seed\n",
    ")\n",
    "\n",
    "plt.matshow(A)\n",
    "plt.title(\"A: Block tridiagonal arrowhead matrix\")\n",
    "\n",
    "# --- Decomposition ---\n",
    "\n",
    "fig, ax = plt.subplots(1, 3)\n",
    "fig.suptitle(\"Cholesky decomposition of block tridiagonal arrowhead matrix\")\n",
    "L_ref = la.cholesky(A, lower=True)\n",
    "ax[0].set_title(\"L_ref: Scipy cholesky decomposition\")\n",
    "ax[0].matshow(L_ref)\n",
    "\n",
    "L_sdr = chol_dcmp_tridiag_arrowhead(A, diag_blocksize, arrow_blocksize)\n",
    "ax[1].set_title(\"L_sdr: Selected cholesky decomposition\")\n",
    "ax[1].matshow(L_sdr)\n",
    "\n",
    "L_diff = L_ref - L_sdr\n",
    "ax[2].set_title(\"L_diff: Difference between L_ref and L_sdr\")\n",
    "ax[2].matshow(L_diff)\n",
    "fig.colorbar(ax[2].matshow(L_diff), ax=ax[2], label=\"Relative error\", shrink=0.4)"
   ]
  },
  {
   "cell_type": "markdown",
   "metadata": {},
   "source": [
    "## 3. Block n-diagonals matrix"
   ]
  },
  {
   "cell_type": "code",
   "execution_count": null,
   "metadata": {},
   "outputs": [],
   "source": [
    "%matplotlib widget\n",
    "\n",
    "from sdr.cholesky.cholesky_decompose import chol_dcmp_ndiags\n",
    "\n",
    "nblocks = 6\n",
    "ndiags = 7\n",
    "blocksize = 2\n",
    "symmetric = True\n",
    "diagonal_dominant = True\n",
    "seed = 63\n",
    "\n",
    "A = matrix_generation.generate_block_ndiags(\n",
    "    nblocks, ndiags, blocksize, symmetric, diagonal_dominant, seed\n",
    ")\n",
    "\n",
    "plt.matshow(A)\n",
    "plt.title(\"A: Block {}-diagonals matrix\".format(ndiags))\n",
    "# --- Decomposition ---\n",
    "\n",
    "fig, ax = plt.subplots(1, 3)\n",
    "fig.suptitle(\"Cholesky decomposition of block {}-diagonals matrix\".format(ndiags))\n",
    "L_ref = la.cholesky(A, lower=True)\n",
    "ax[0].set_title(\"L_ref: Scipy cholesky decomposition\")\n",
    "ax[0].matshow(L_ref)\n",
    "\n",
    "L_sdr = chol_dcmp_ndiags(A, ndiags, blocksize)\n",
    "ax[1].set_title(\"L_sdr: Selected cholesky decomposition\")\n",
    "ax[1].matshow(L_sdr)\n",
    "\n",
    "L_diff = L_ref - L_sdr\n",
    "ax[2].set_title(\"L_diff: Difference between L_ref and L_sdr\")\n",
    "ax[2].matshow(L_diff)\n",
    "fig.colorbar(ax[2].matshow(L_diff), ax=ax[2], label=\"Relative error\", shrink=0.4)"
   ]
  },
  {
   "cell_type": "markdown",
   "metadata": {},
   "source": [
    "## 4. Block n-diagonals arrowhead matrix"
   ]
  },
  {
   "cell_type": "code",
   "execution_count": null,
   "metadata": {},
   "outputs": [],
   "source": [
    "%matplotlib widget\n",
    "\n",
    "from sdr.cholesky.cholesky_decompose import chol_dcmp_ndiags_arrowhead\n",
    "\n",
    "nblocks = 7\n",
    "ndiags = 5\n",
    "diag_blocksize = 2\n",
    "arrow_blocksize = 2\n",
    "symmetric = True\n",
    "diagonal_dominant = True\n",
    "seed = 63\n",
    "\n",
    "A = matrix_generation.generate_ndiags_arrowhead(\n",
    "    nblocks, ndiags, diag_blocksize, arrow_blocksize, symmetric, \n",
    "    diagonal_dominant, seed\n",
    ")\n",
    "\n",
    "plt.matshow(A)\n",
    "plt.title(\"A: Block {}-diagonals arrowhead matrix\".format(ndiags))\n",
    "\n",
    "# --- Decomposition ---\n",
    "\n",
    "fig, ax = plt.subplots(1, 3)\n",
    "fig.suptitle(\"Cholesky decomposition of block {}-diagonals arrowhead matrix\".format(ndiags))\n",
    "L_ref = la.cholesky(A, lower=True)\n",
    "ax[0].set_title(\"L_ref: Scipy cholesky decomposition\")\n",
    "ax[0].matshow(L_ref)\n",
    "\n",
    "L_sdr = chol_dcmp_ndiags_arrowhead(A, ndiags, diag_blocksize, arrow_blocksize)\n",
    "ax[1].set_title(\"L_sdr: Selected cholesky decomposition\")\n",
    "ax[1].matshow(L_sdr)\n",
    "\n",
    "L_diff = L_ref - L_sdr\n",
    "ax[2].set_title(\"L_diff: Difference between L_ref and L_sdr\")\n",
    "ax[2].matshow(L_diff)\n",
    "fig.colorbar(ax[2].matshow(L_diff), ax=ax[2], label=\"Relative error\", shrink=0.4)"
   ]
  }
 ],
 "metadata": {
  "language_info": {
   "name": "python"
  }
 },
 "nbformat": 4,
 "nbformat_minor": 2
}
