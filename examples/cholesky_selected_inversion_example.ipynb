{
 "cells": [
  {
   "cell_type": "markdown",
   "metadata": {},
   "source": [
    "# Cholesky selected inversion"
   ]
  },
  {
   "cell_type": "code",
   "execution_count": null,
   "metadata": {},
   "outputs": [],
   "source": [
    "import numpy as np\n",
    "import scipy.linalg as la\n",
    "import matplotlib.pyplot as plt\n",
    "\n",
    "from sdr.utils import matrix_generation"
   ]
  },
  {
   "cell_type": "markdown",
   "metadata": {},
   "source": [
    "## 1. Block tridiagonal matrix"
   ]
  },
  {
   "cell_type": "code",
   "execution_count": null,
   "metadata": {},
   "outputs": [],
   "source": [
    "%matplotlib widget\n",
    "\n",
    "from sdr.utils.matrix_transform import cut_to_blocktridiag\n",
    "from sdr.cholesky.cholesky_decompose import chol_dcmp_tridiag\n",
    "from sdr.cholesky.cholesky_selected_inversion import chol_sinv_tridiag\n",
    "\n",
    "nblocks = 5\n",
    "blocksize = 2\n",
    "symmetric = True\n",
    "diagonal_dominant = True\n",
    "seed = 63\n",
    "\n",
    "A = matrix_generation.generate_blocktridiag(\n",
    "    nblocks, blocksize, symmetric, diagonal_dominant, seed\n",
    ")\n",
    "\n",
    "# --- Inversion ---\n",
    "\n",
    "X_ref = la.inv(A)\n",
    "X_ref = cut_to_blocktridiag(X_ref, blocksize)\n",
    "\n",
    "L_sdr = chol_dcmp_tridiag(A, blocksize)\n",
    "\n",
    "fig, ax = plt.subplots(1, 3)\n",
    "fig.suptitle(\"Cholesky selected inversion for block tridiagonal matrices\")\n",
    "ax[0].set_title(\"X_ref: Cholesky reference inversion\")\n",
    "ax[0].matshow(X_ref)\n",
    "\n",
    "X_sdr = chol_sinv_tridiag(L_sdr, blocksize)\n",
    "ax[1].set_title(\"X_sdr: Cholesky selected inversion\")\n",
    "ax[1].matshow(X_sdr)\n",
    "\n",
    "X_diff = X_ref - X_sdr\n",
    "ax[2].set_title(\"X_diff: Difference between X_ref and X_sdr\")\n",
    "ax[2].matshow(X_diff)\n",
    "fig.colorbar(ax[2].matshow(X_diff), ax=ax[2], label=\"Relative error\", shrink=0.4)"
   ]
  },
  {
   "cell_type": "markdown",
   "metadata": {},
   "source": [
    "## 2. Block tridiagonal arrowhead matrix"
   ]
  },
  {
   "cell_type": "code",
   "execution_count": null,
   "metadata": {},
   "outputs": [],
   "source": [
    "%matplotlib widget\n",
    "\n",
    "from sdr.utils.matrix_transform import cut_to_blocktridiag_arrowhead\n",
    "from sdr.cholesky.cholesky_decompose import chol_dcmp_tridiag_arrowhead\n",
    "from sdr.cholesky.cholesky_selected_inversion import chol_sinv_tridiag_arrowhead\n",
    "\n",
    "nblocks = 5\n",
    "diag_blocksize = 3\n",
    "arrow_blocksize = 2\n",
    "symmetric = True\n",
    "diagonal_dominant = True\n",
    "seed = 63\n",
    "\n",
    "A = matrix_generation.generate_blocktridiag_arrowhead(\n",
    "    nblocks, diag_blocksize, arrow_blocksize, symmetric, diagonal_dominant, \n",
    "    seed\n",
    ")\n",
    "\n",
    "# --- Inversion ---\n",
    "\n",
    "X_ref = la.inv(A)\n",
    "X_ref = cut_to_blocktridiag_arrowhead(X_ref, diag_blocksize, arrow_blocksize)\n",
    "\n",
    "L_sdr = chol_dcmp_tridiag_arrowhead(A, diag_blocksize, arrow_blocksize)\n",
    "\n",
    "fig, ax = plt.subplots(1, 3)\n",
    "fig.suptitle(\"Cholesky selected inversion for block tridiagonal arrowhead matrices\")\n",
    "ax[0].set_title(\"X_ref: Cholesky reference inversion\")\n",
    "ax[0].matshow(X_ref)\n",
    "\n",
    "X_sdr = chol_sinv_tridiag_arrowhead(L_sdr, diag_blocksize, arrow_blocksize)\n",
    "ax[1].set_title(\"X_sdr: Cholesky selected inversion\")\n",
    "ax[1].matshow(X_sdr)\n",
    "\n",
    "X_diff = X_ref - X_sdr\n",
    "ax[2].set_title(\"X_diff: Difference between X_ref and X_sdr\")\n",
    "ax[2].matshow(X_diff)\n",
    "fig.colorbar(ax[2].matshow(X_diff), ax=ax[2], label=\"Relative error\", shrink=0.4)"
   ]
  },
  {
   "cell_type": "markdown",
   "metadata": {},
   "source": [
    "## 3. Block n-diagonals matrix"
   ]
  },
  {
   "cell_type": "code",
   "execution_count": null,
   "metadata": {},
   "outputs": [],
   "source": [
    "# Work in progress..."
   ]
  },
  {
   "cell_type": "markdown",
   "metadata": {},
   "source": [
    "## 4. Block n-diagonals arrowhead matrix"
   ]
  },
  {
   "cell_type": "code",
   "execution_count": null,
   "metadata": {},
   "outputs": [],
   "source": [
    "# Work in progress..."
   ]
  }
 ],
 "metadata": {
  "language_info": {
   "name": "python"
  }
 },
 "nbformat": 4,
 "nbformat_minor": 2
}
