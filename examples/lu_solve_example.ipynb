{
 "cells": [
  {
   "cell_type": "markdown",
   "metadata": {},
   "source": [
    "# LU selected solver"
   ]
  },
  {
   "cell_type": "code",
   "execution_count": null,
   "metadata": {},
   "outputs": [],
   "source": [
    "import numpy as np\n",
    "import scipy.linalg as la\n",
    "import matplotlib.pyplot as plt\n",
    "\n",
    "from sdr.utils import matrix_generation"
   ]
  },
  {
   "cell_type": "markdown",
   "metadata": {},
   "source": [
    "## 1. Block tridiagonal matrix"
   ]
  },
  {
   "cell_type": "code",
   "execution_count": null,
   "metadata": {},
   "outputs": [],
   "source": [
    "%matplotlib widget\n",
    "\n",
    "from sdr.lu.lu_decompose import lu_dcmp_tridiag\n",
    "from sdr.lu.lu_solve import lu_slv_tridiag\n",
    "\n",
    "nblocks = 5\n",
    "blocksize = 2\n",
    "symmetric = True\n",
    "diagonal_dominant = True\n",
    "seed = 63\n",
    "\n",
    "A = matrix_generation.generate_blocktridiag(\n",
    "    nblocks, blocksize, symmetric, diagonal_dominant, seed\n",
    ")\n",
    "\n",
    "# P_ref, L_ref, U_ref = la.lu(A)\n",
    "lu_ref, p_ref = la.lu_factor(A)\n",
    "L_sdr, U_sdr = lu_dcmp_tridiag(A, blocksize)\n",
    "\n",
    "n_rhs = 3\n",
    "B = np.random.randn(A.shape[0], n_rhs)\n",
    "\n",
    "\n",
    "# --- Solving ---\n",
    "\n",
    "X_ref = la.lu_solve((lu_ref, p_ref), B)\n",
    "# Is equivalent to..\n",
    "# Y_ref = la.solve_triangular(L_ref, B, lower=True)\n",
    "# X_ref = la.solve_triangular(U_ref, Y_ref, lower=False)\n",
    "\n",
    "fig, ax = plt.subplots(1, 3)\n",
    "fig.suptitle(\"LU selected solver for block tridiagonal matrices\")\n",
    "ax[0].set_title(\"X_ref: Scipy lu solver\")\n",
    "ax[0].matshow(X_ref)\n",
    "\n",
    "X_sdr = lu_slv_tridiag(L_sdr, U_sdr, B, blocksize)\n",
    "ax[1].set_title(\"X_sdr: Selected lu solver\")\n",
    "ax[1].matshow(X_sdr)\n",
    "\n",
    "X_diff = X_ref - X_sdr\n",
    "ax[2].set_title(\"X_diff: Difference between X_ref and X_sdr\")\n",
    "ax[2].matshow(X_diff)\n",
    "fig.colorbar(ax[2].matshow(X_diff), ax=ax[2], label=\"Relative error\", shrink=0.4)\n",
    "\n",
    "\n"
   ]
  },
  {
   "cell_type": "markdown",
   "metadata": {},
   "source": [
    "## 2. Block tridiagonal arrowhead matrix"
   ]
  },
  {
   "cell_type": "code",
   "execution_count": null,
   "metadata": {},
   "outputs": [],
   "source": [
    "%matplotlib widget\n",
    "\n",
    "from sdr.lu.lu_decompose import lu_dcmp_tridiag_arrowhead\n",
    "from sdr.lu.lu_solve import lu_slv_tridiag_arrowhead\n",
    "\n",
    "nblocks = 5\n",
    "diag_blocksize = 3\n",
    "arrow_blocksize = 2\n",
    "symmetric = True\n",
    "diagonal_dominant = True\n",
    "seed = 63\n",
    "\n",
    "A = matrix_generation.generate_blocktridiag_arrowhead(\n",
    "    nblocks, diag_blocksize, arrow_blocksize, symmetric, diagonal_dominant, \n",
    "    seed\n",
    ")\n",
    "\n",
    "# P_ref, L_ref, U_ref = la.lu(A)\n",
    "lu_ref, p_ref = la.lu_factor(A)\n",
    "L_sdr, U_sdr = lu_dcmp_tridiag_arrowhead(A, diag_blocksize, arrow_blocksize)\n",
    "\n",
    "n_rhs = 3\n",
    "B = np.random.randn(A.shape[0], n_rhs)\n",
    "\n",
    "\n",
    "# --- Solving ---\n",
    "\n",
    "X_ref = la.lu_solve((lu_ref, p_ref), B)\n",
    "# Is equivalent to..\n",
    "# Y_ref = la.solve_triangular(L_ref, B, lower=True)\n",
    "# X_ref = la.solve_triangular(U_ref, Y_ref, lower=False)\n",
    "\n",
    "fig, ax = plt.subplots(1, 3)\n",
    "fig.suptitle(\"LU selected solver for block tridiagonal arrowhead matrices\")\n",
    "ax[0].set_title(\"X_ref: Scipy lu solver\")\n",
    "ax[0].matshow(X_ref)\n",
    "\n",
    "X_sdr = lu_slv_tridiag_arrowhead(L_sdr, U_sdr, B, diag_blocksize, arrow_blocksize)\n",
    "ax[1].set_title(\"X_sdr: Selected lu solver\")\n",
    "ax[1].matshow(X_sdr)\n",
    "\n",
    "X_diff = X_ref - X_sdr\n",
    "ax[2].set_title(\"X_diff: Difference between X_ref and X_sdr\")\n",
    "ax[2].matshow(X_diff)\n",
    "fig.colorbar(ax[2].matshow(X_diff), ax=ax[2], label=\"Relative error\", shrink=0.4)"
   ]
  },
  {
   "cell_type": "markdown",
   "metadata": {},
   "source": [
    "## 3. Block n-diagonals matrix"
   ]
  },
  {
   "cell_type": "code",
   "execution_count": null,
   "metadata": {},
   "outputs": [],
   "source": [
    "# Work in progress..."
   ]
  },
  {
   "cell_type": "markdown",
   "metadata": {},
   "source": [
    "## 4. Block n-diagonals arrowhead matrix"
   ]
  },
  {
   "cell_type": "code",
   "execution_count": null,
   "metadata": {},
   "outputs": [],
   "source": [
    "# Work in progress..."
   ]
  }
 ],
 "metadata": {
  "language_info": {
   "name": "python"
  }
 },
 "nbformat": 4,
 "nbformat_minor": 2
}
