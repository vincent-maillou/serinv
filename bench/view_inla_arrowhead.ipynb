{
 "cells": [
  {
   "cell_type": "code",
   "execution_count": 1,
   "metadata": {},
   "outputs": [],
   "source": [
    "import matplotlib.pyplot as plt\n",
    "from load_datmat import csc_to_dense_bta, read_sym_CSC"
   ]
  },
  {
   "cell_type": "code",
   "execution_count": 2,
   "metadata": {},
   "outputs": [],
   "source": [
    "file_path = \"/home/vault/j101df/j101df10/inla_matrices/INLA_paper_examples/\"\n",
    "\n",
    "diagonal_blocksize = 2865\n",
    "n_diag_blocks = 365\n",
    "arrowhead_blocksize = 4\n",
    "n = diagonal_blocksize * n_diag_blocks + arrowhead_blocksize\n",
    "\n",
    "file = (\n",
    "        \"Qxy_ns\"\n",
    "        + str(diagonal_blocksize)\n",
    "        + \"_nt\"\n",
    "        + str(n_diag_blocks)\n",
    "        + \"_nss0_nb\"\n",
    "        + str(arrowhead_blocksize)\n",
    "        + \"_n\"\n",
    "        + str(n)\n",
    "        + \".dat\"\n",
    "    )\n",
    "\n",
    "filename = file_path + file\n",
    "\n",
    "A = read_sym_CSC(filename)"
   ]
  },
  {
   "cell_type": "code",
   "execution_count": null,
   "metadata": {},
   "outputs": [],
   "source": [
    "plt.spy(A)\n",
    "plt.savefig(\"spy.png\")"
   ]
  },
  {
   "cell_type": "markdown",
   "metadata": {},
   "source": []
  }
 ],
 "metadata": {
  "kernelspec": {
   "display_name": "Python 3",
   "language": "python",
   "name": "python3"
  },
  "language_info": {
   "codemirror_mode": {
    "name": "ipython",
    "version": 3
   },
   "file_extension": ".py",
   "mimetype": "text/x-python",
   "name": "python",
   "nbconvert_exporter": "python",
   "pygments_lexer": "ipython3",
   "version": "3.11.9"
  }
 },
 "nbformat": 4,
 "nbformat_minor": 2
}
